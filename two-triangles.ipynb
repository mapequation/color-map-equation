{
 "cells": [
  {
   "cell_type": "code",
   "execution_count": 1,
   "id": "57e2fc8b",
   "metadata": {
    "execution": {
     "iopub.execute_input": "2021-06-16T13:17:05.380023Z",
     "iopub.status.busy": "2021-06-16T13:17:05.379262Z",
     "iopub.status.idle": "2021-06-16T13:17:05.701234Z",
     "shell.execute_reply": "2021-06-16T13:17:05.700760Z",
     "shell.execute_reply.started": "2021-06-16T13:17:05.379839Z"
    }
   },
   "outputs": [],
   "source": [
    "%load_ext autoreload\n",
    "%autoreload 2\n",
    "\n",
    "from infomap import Infomap\n",
    "import numpy as np\n",
    "import networkx as nx\n",
    "import matplotlib.pyplot as plt"
   ]
  },
  {
   "cell_type": "code",
   "execution_count": 2,
   "id": "84569a97",
   "metadata": {
    "execution": {
     "iopub.execute_input": "2021-06-16T13:17:05.894049Z",
     "iopub.status.busy": "2021-06-16T13:17:05.893427Z",
     "iopub.status.idle": "2021-06-16T13:17:06.113694Z",
     "shell.execute_reply": "2021-06-16T13:17:06.112903Z",
     "shell.execute_reply.started": "2021-06-16T13:17:05.893977Z"
    }
   },
   "outputs": [
    {
     "name": "stdout",
     "output_type": "stream",
     "text": [
      "\u001b[0m\u001b[0m\u001b[1m\u001b[32m    Finished\u001b[0m release [optimized] target(s) in 0.00s\n"
     ]
    }
   ],
   "source": [
    "!cd simulate && cargo build --release"
   ]
  },
  {
   "cell_type": "code",
   "execution_count": 3,
   "id": "122e1dc1",
   "metadata": {
    "execution": {
     "iopub.execute_input": "2021-06-16T13:17:06.115023Z",
     "iopub.status.busy": "2021-06-16T13:17:06.114716Z",
     "iopub.status.idle": "2021-06-16T13:17:06.146191Z",
     "shell.execute_reply": "2021-06-16T13:17:06.145391Z",
     "shell.execute_reply.started": "2021-06-16T13:17:06.114991Z"
    }
   },
   "outputs": [
    {
     "data": {
      "text/plain": [
       "OutEdgeView([(1, 2), (1, 3), (2, 1), (2, 3), (3, 1), (3, 2), (3, 4), (4, 3), (4, 5), (4, 6), (5, 4), (5, 6), (6, 4), (6, 5)])"
      ]
     },
     "execution_count": 3,
     "metadata": {},
     "output_type": "execute_result"
    }
   ],
   "source": [
    "edges = [\n",
    "    (1, 2), (2, 1),\n",
    "    (1, 3), (3, 1),\n",
    "    (2, 3), (3, 2),\n",
    "    (3, 4), (4, 3),\n",
    "    (4, 5), (5, 4),\n",
    "    (4, 6), (6, 4),\n",
    "    (5, 6), (6, 5),\n",
    "]\n",
    "    \n",
    "G = nx.DiGraph(edges)\n",
    "G.edges"
   ]
  },
  {
   "cell_type": "code",
   "execution_count": 4,
   "id": "3fe01aff",
   "metadata": {
    "execution": {
     "iopub.execute_input": "2021-06-16T13:17:06.898003Z",
     "iopub.status.busy": "2021-06-16T13:17:06.897376Z",
     "iopub.status.idle": "2021-06-16T13:17:06.916497Z",
     "shell.execute_reply": "2021-06-16T13:17:06.916069Z",
     "shell.execute_reply.started": "2021-06-16T13:17:06.897929Z"
    }
   },
   "outputs": [],
   "source": [
    "nx.write_edgelist(G, \"two-triangles.net\", data=False)"
   ]
  },
  {
   "cell_type": "code",
   "execution_count": 29,
   "id": "e84036a7",
   "metadata": {
    "execution": {
     "iopub.execute_input": "2021-06-22T08:11:40.994664Z",
     "iopub.status.busy": "2021-06-22T08:11:40.994043Z",
     "iopub.status.idle": "2021-06-22T08:11:41.010324Z",
     "shell.execute_reply": "2021-06-22T08:11:41.009859Z",
     "shell.execute_reply.started": "2021-06-22T08:11:40.994591Z"
    }
   },
   "outputs": [
    {
     "data": {
      "text/plain": [
       "NodeDataView({1: -1.0, 2: -1.0, 3: 0.0, 4: 0.0, 5: 1.0, 6: 1.0}, data='meta')"
      ]
     },
     "execution_count": 29,
     "metadata": {},
     "output_type": "execute_result"
    }
   ],
   "source": [
    "nx.set_node_attributes(G, {\n",
    "    1: -1.0,\n",
    "    2: -1.0,\n",
    "    3: 0.0,\n",
    "    4: 0.0,\n",
    "    5: 1.0,\n",
    "    6: 1.0,\n",
    "}, \"meta\")\n",
    "\n",
    "G.nodes.data(\"meta\")"
   ]
  },
  {
   "cell_type": "code",
   "execution_count": 6,
   "id": "c0a6b530",
   "metadata": {
    "execution": {
     "iopub.execute_input": "2021-06-16T13:17:09.482421Z",
     "iopub.status.busy": "2021-06-16T13:17:09.481801Z",
     "iopub.status.idle": "2021-06-16T13:17:09.497524Z",
     "shell.execute_reply": "2021-06-16T13:17:09.497078Z",
     "shell.execute_reply.started": "2021-06-16T13:17:09.482348Z"
    }
   },
   "outputs": [],
   "source": [
    "meta_filename = \"two-triangles.meta\"\n",
    "\n",
    "with open(meta_filename, \"w\") as f:\n",
    "    for node, meta in nx.get_node_attributes(G, \"meta\").items():\n",
    "        f.write(f\"{node} {meta}\\n\")"
   ]
  },
  {
   "cell_type": "code",
   "execution_count": 7,
   "id": "99d0c023",
   "metadata": {
    "execution": {
     "iopub.execute_input": "2021-06-16T13:17:11.890250Z",
     "iopub.status.busy": "2021-06-16T13:17:11.889624Z",
     "iopub.status.idle": "2021-06-16T13:17:11.913913Z",
     "shell.execute_reply": "2021-06-16T13:17:11.913543Z",
     "shell.execute_reply.started": "2021-06-16T13:17:11.890177Z"
    }
   },
   "outputs": [
    {
     "data": {
      "text/plain": [
       "'two-triangles.tree'"
      ]
     },
     "execution_count": 7,
     "metadata": {},
     "output_type": "execute_result"
    }
   ],
   "source": [
    "im = Infomap(two_level=True, num_trials=10)\n",
    "im.add_networkx_graph(G)\n",
    "im.run()\n",
    "im.write_tree(\"two-triangles.tree\")"
   ]
  },
  {
   "cell_type": "code",
   "execution_count": 30,
   "id": "cb87a850",
   "metadata": {
    "execution": {
     "iopub.execute_input": "2021-06-22T08:11:45.720472Z",
     "iopub.status.busy": "2021-06-22T08:11:45.719853Z",
     "iopub.status.idle": "2021-06-22T08:11:45.738644Z",
     "shell.execute_reply": "2021-06-22T08:11:45.738218Z",
     "shell.execute_reply.started": "2021-06-22T08:11:45.720396Z"
    }
   },
   "outputs": [
    {
     "data": {
      "text/plain": [
       "array([1.000e+00, 6.667e-01, 3.334e-01, 1.000e-04])"
      ]
     },
     "execution_count": 30,
     "metadata": {},
     "output_type": "execute_result"
    }
   ],
   "source": [
    "ss = np.linspace(1, 0.0001, endpoint=True, num=4)\n",
    "ss"
   ]
  },
  {
   "cell_type": "code",
   "execution_count": 36,
   "id": "eb8a3b3a",
   "metadata": {
    "execution": {
     "iopub.execute_input": "2021-06-22T08:13:43.444248Z",
     "iopub.status.busy": "2021-06-22T08:13:43.443631Z",
     "iopub.status.idle": "2021-06-22T08:13:43.542533Z",
     "shell.execute_reply": "2021-06-22T08:13:43.542038Z",
     "shell.execute_reply.started": "2021-06-22T08:13:43.444174Z"
    }
   },
   "outputs": [
    {
     "data": {
      "image/png": "[encoded data removed]",
      "text/plain": [
       "<Figure size 432x288 with 1 Axes>"
      ]
     },
     "metadata": {
      "needs_background": "light"
     },
     "output_type": "display_data"
    }
   ],
   "source": [
    "meta = [meta for _, meta in G.nodes.data(\"meta\")]\n",
    "\n",
    "meta_scale = 0.5\n",
    "for meta_scale in (0.5,):\n",
    "    for s in ss:\n",
    "        x = sorted([xi - xj for xi in meta for xj in meta])\n",
    "        y = [(1 - s) * np.exp(-abs(dist) / meta_scale) + s for dist in x]\n",
    "        plt.plot(x, y)"
   ]
  },
  {
   "cell_type": "code",
   "execution_count": 10,
   "id": "f58381ec",
   "metadata": {
    "execution": {
     "iopub.execute_input": "2021-06-16T13:19:01.720942Z",
     "iopub.status.busy": "2021-06-16T13:19:01.720296Z",
     "iopub.status.idle": "2021-06-16T13:19:03.598666Z",
     "shell.execute_reply": "2021-06-16T13:19:03.598125Z",
     "shell.execute_reply.started": "2021-06-16T13:19:01.720859Z"
    }
   },
   "outputs": [],
   "source": [
    "import subprocess\n",
    "\n",
    "n_samples = 10**6\n",
    "meta_scale = 0.2\n",
    "simulate = \"simulate/target/release/simulate\"\n",
    "\n",
    "for i, s in enumerate(ss):\n",
    "    out_name = f\"out_{i}.temp\"\n",
    "    \n",
    "    subprocess.run([simulate, \"-r\",\n",
    "                    \"two-triangles.net\", \"two-triangles.meta\", out_name,\n",
    "                    str(s), str(meta_scale), str(n_samples)],\n",
    "                   check=True)\n",
    "    \n",
    "    im = Infomap(two_level=True, num_trials=10, flow_model=\"rawdir\", silent=True)\n",
    "    im.read_file(out_name)\n",
    "    im.run()\n",
    "    im.write_flow_tree(f\"two-triangles_{i}.ftree\")"
   ]
  },
  {
   "cell_type": "code",
   "execution_count": 74,
   "id": "900ca2c5",
   "metadata": {
    "execution": {
     "iopub.execute_input": "2021-06-16T11:38:42.402163Z",
     "iopub.status.busy": "2021-06-16T11:38:42.401505Z",
     "iopub.status.idle": "2021-06-16T11:38:42.780289Z",
     "shell.execute_reply": "2021-06-16T11:38:42.777631Z",
     "shell.execute_reply.started": "2021-06-16T11:38:42.402078Z"
    }
   },
   "outputs": [],
   "source": []
  }
 ],
 "metadata": {
  "kernelspec": {
   "display_name": "Python 3 (ipykernel)",
   "language": "python",
   "name": "python3"
  },
  "language_info": {
   "codemirror_mode": {
    "name": "ipython",
    "version": 3
   },
   "file_extension": ".py",
   "mimetype": "text/x-python",
   "name": "python",
   "nbconvert_exporter": "python",
   "pygments_lexer": "ipython3",
   "version": "3.8.5"
  }
 },
 "nbformat": 4,
 "nbformat_minor": 5
}
