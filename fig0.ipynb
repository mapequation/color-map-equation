{
 "cells": [
  {
   "cell_type": "code",
   "execution_count": 1,
   "id": "9dfe946b",
   "metadata": {
    "execution": {
     "iopub.execute_input": "2022-07-28T14:10:10.485550Z",
     "iopub.status.busy": "2022-07-28T14:10:10.484853Z",
     "iopub.status.idle": "2022-07-28T14:10:11.201691Z",
     "shell.execute_reply": "2022-07-28T14:10:11.201256Z",
     "shell.execute_reply.started": "2022-07-28T14:10:10.485356Z"
    }
   },
   "outputs": [],
   "source": [
    "import networkx as nx\n",
    "import numpy as np\n",
    "from infomap import Infomap\n",
    "import matplotlib.pyplot as plt"
   ]
  },
  {
   "cell_type": "code",
   "execution_count": 2,
   "id": "b9a784a3",
   "metadata": {
    "execution": {
     "iopub.execute_input": "2022-07-28T14:10:11.736135Z",
     "iopub.status.busy": "2022-07-28T14:10:11.735601Z",
     "iopub.status.idle": "2022-07-28T14:10:11.748289Z",
     "shell.execute_reply": "2022-07-28T14:10:11.747850Z",
     "shell.execute_reply.started": "2022-07-28T14:10:11.736071Z"
    }
   },
   "outputs": [],
   "source": [
    "G = nx.Graph([\n",
    "    (1, 2),\n",
    "    (2, 3),\n",
    "    (3, 1),\n",
    "    (3, 4),\n",
    "    (4, 5),\n",
    "    (4, 6),\n",
    "    (5, 6),\n",
    "    (5, 7),\n",
    "    (6, 7)\n",
    "])"
   ]
  },
  {
   "cell_type": "code",
   "execution_count": 3,
   "id": "3e6a6bbb",
   "metadata": {
    "execution": {
     "iopub.execute_input": "2022-07-28T14:10:12.813975Z",
     "iopub.status.busy": "2022-07-28T14:10:12.813381Z",
     "iopub.status.idle": "2022-07-28T14:10:12.818995Z",
     "shell.execute_reply": "2022-07-28T14:10:12.818689Z",
     "shell.execute_reply.started": "2022-07-28T14:10:12.813902Z"
    }
   },
   "outputs": [],
   "source": [
    "metadata = {\n",
    "    1: 1,\n",
    "    2: 1,\n",
    "    3: 2,\n",
    "    4: 1,\n",
    "    5: 2,\n",
    "    6: 2,\n",
    "    7: 2\n",
    "}\n",
    "\n",
    "nx.set_node_attributes(G, metadata, \"metadata\")"
   ]
  },
  {
   "cell_type": "code",
   "execution_count": 4,
   "id": "8748ceb5",
   "metadata": {
    "execution": {
     "iopub.execute_input": "2022-07-28T14:10:13.822310Z",
     "iopub.status.busy": "2022-07-28T14:10:13.821723Z",
     "iopub.status.idle": "2022-07-28T14:10:13.828627Z",
     "shell.execute_reply": "2022-07-28T14:10:13.828265Z",
     "shell.execute_reply.started": "2022-07-28T14:10:13.822237Z"
    }
   },
   "outputs": [],
   "source": [
    "def draw(G, square_color=None, circle_color=None):\n",
    "    pos = nx.spring_layout(G)\n",
    "    nx.draw_networkx_edges(G, pos)\n",
    "    squares = [node for node, meta in G.nodes.data(\"metadata\") if meta == 1]\n",
    "    circles = [node for node, meta in G.nodes.data(\"metadata\") if meta == 2]\n",
    "\n",
    "    nx.draw_networkx_nodes(G, pos, nodelist=squares, node_shape=\"s\", node_color=square_color)\n",
    "    nx.draw_networkx_nodes(G, pos, nodelist=circles, node_shape=\"o\", node_color=circle_color)"
   ]
  },
  {
   "cell_type": "code",
   "execution_count": 5,
   "id": "13de23cd",
   "metadata": {
    "execution": {
     "iopub.execute_input": "2022-07-28T14:10:14.599694Z",
     "iopub.status.busy": "2022-07-28T14:10:14.599087Z",
     "iopub.status.idle": "2022-07-28T14:10:14.678447Z",
     "shell.execute_reply": "2022-07-28T14:10:14.678086Z",
     "shell.execute_reply.started": "2022-07-28T14:10:14.599618Z"
    }
   },
   "outputs": [
    {
     "data": {
      "image/png": "[encoded data removed]",
      "text/plain": [
       "<Figure size 432x288 with 1 Axes>"
      ]
     },
     "metadata": {},
     "output_type": "display_data"
    }
   ],
   "source": [
    "draw(G)"
   ]
  },
  {
   "cell_type": "code",
   "execution_count": 6,
   "id": "9f3bb32d",
   "metadata": {
    "execution": {
     "iopub.execute_input": "2022-07-28T14:10:20.072861Z",
     "iopub.status.busy": "2022-07-28T14:10:20.072244Z",
     "iopub.status.idle": "2022-07-28T14:10:20.142722Z",
     "shell.execute_reply": "2022-07-28T14:10:20.142203Z",
     "shell.execute_reply.started": "2022-07-28T14:10:20.072787Z"
    }
   },
   "outputs": [
    {
     "data": {
      "image/png": "[encoded data removed]",
      "text/plain": [
       "<Figure size 432x288 with 1 Axes>"
      ]
     },
     "metadata": {},
     "output_type": "display_data"
    }
   ],
   "source": [
    "# Without metadata\n",
    "\n",
    "im = Infomap(directed=False, silent=True, num_trials=1)\n",
    "im.add_networkx_graph(G)\n",
    "im.run()\n",
    "\n",
    "nx.set_node_attributes(G, im.get_modules(), \"module\")\n",
    "\n",
    "square_color = [\"blue\" if data[\"module\"] == 1 else \"red\" for _, data in G.nodes.data(True) if data[\"metadata\"] == 1]\n",
    "circle_color = [\"blue\" if data[\"module\"] == 1 else \"red\" for _, data in G.nodes.data(True) if data[\"metadata\"] == 2]\n",
    "\n",
    "draw(G, square_color, circle_color)"
   ]
  },
  {
   "cell_type": "code",
   "execution_count": 7,
   "id": "ca0410b8",
   "metadata": {
    "execution": {
     "iopub.execute_input": "2022-07-28T14:10:29.095641Z",
     "iopub.status.busy": "2022-07-28T14:10:29.094885Z",
     "iopub.status.idle": "2022-07-28T14:10:29.099449Z",
     "shell.execute_reply": "2022-07-28T14:10:29.099083Z",
     "shell.execute_reply.started": "2022-07-28T14:10:29.095562Z"
    }
   },
   "outputs": [],
   "source": [
    "# With metadata\n",
    "\n",
    "H = nx.DiGraph()\n",
    "for source, target in G.edges:\n",
    "    H.add_edge(source, target)\n",
    "    H.add_edge(target, source)\n",
    "\n",
    "nx.write_edgelist(H, \"fig0.net\", data=False)\n",
    "\n",
    "with open(\"fig0-meta.txt\", \"w\") as fp:\n",
    "    for node, meta in G.nodes.data(\"metadata\"):\n",
    "        fp.write(f\"{node} {meta}\\n\")"
   ]
  },
  {
   "cell_type": "code",
   "execution_count": 8,
   "id": "26bf6bc7",
   "metadata": {
    "execution": {
     "iopub.execute_input": "2022-07-28T14:10:46.206579Z",
     "iopub.status.busy": "2022-07-28T14:10:46.205940Z",
     "iopub.status.idle": "2022-07-28T14:10:46.372573Z",
     "shell.execute_reply": "2022-07-28T14:10:46.369807Z",
     "shell.execute_reply.started": "2022-07-28T14:10:46.206502Z"
    }
   },
   "outputs": [],
   "source": [
    "!simulate/target/release/simulate -c fig0.net fig0-meta.txt fig0-meta.net 0.0 1.0 100000"
   ]
  },
  {
   "cell_type": "code",
   "execution_count": 14,
   "id": "adea3668",
   "metadata": {
    "execution": {
     "iopub.execute_input": "2022-07-28T14:30:24.758930Z",
     "iopub.status.busy": "2022-07-28T14:30:24.758309Z",
     "iopub.status.idle": "2022-07-28T14:30:25.432611Z",
     "shell.execute_reply": "2022-07-28T14:30:25.432132Z",
     "shell.execute_reply.started": "2022-07-28T14:30:24.758852Z"
    }
   },
   "outputs": [
    {
     "name": "stdout",
     "output_type": "stream",
     "text": [
      "{1: 2, 2: 2, 3: 1, 4: 2, 5: 1, 6: 1, 7: 1}\n"
     ]
    },
    {
     "data": {
      "image/png": "[encoded data removed]",
      "text/plain": [
       "<Figure size 432x288 with 1 Axes>"
      ]
     },
     "metadata": {},
     "output_type": "display_data"
    }
   ],
   "source": [
    "p_diff = [0.09]\n",
    "\n",
    "for p in p_diff:\n",
    "    !simulate/target/release/simulate -c fig0.net fig0-meta.txt fig0-meta.net 1.0 {p} 1000000\n",
    "    im = Infomap(flow_model=\"rawdir\", silent=True, num_trials=10)\n",
    "    im.read_file(\"fig0-meta.net\")\n",
    "    im.run()\n",
    "\n",
    "    print(im.get_modules())\n",
    "    nx.set_node_attributes(G, im.get_modules(), \"module\")\n",
    "\n",
    "    square_color = [\"blue\" if data[\"module\"] == 1 else \"red\" for _, data in G.nodes.data(True) if data[\"metadata\"] == 1]\n",
    "    circle_color = [\"blue\" if data[\"module\"] == 1 else \"red\" for _, data in G.nodes.data(True) if data[\"metadata\"] == 2]\n",
    "\n",
    "    plt.clf()\n",
    "    plt.gca()\n",
    "    draw(G, square_color, circle_color)\n",
    "    plt.savefig(f\"{p}.png\")"
   ]
  },
  {
   "cell_type": "code",
   "execution_count": null,
   "id": "1f72b448",
   "metadata": {},
   "outputs": [],
   "source": []
  }
 ],
 "metadata": {
  "kernelspec": {
   "display_name": "Python 3 (ipykernel)",
   "language": "python",
   "name": "python3"
  },
  "language_info": {
   "codemirror_mode": {
    "name": "ipython",
    "version": 3
   },
   "file_extension": ".py",
   "mimetype": "text/x-python",
   "name": "python",
   "nbconvert_exporter": "python",
   "pygments_lexer": "ipython3",
   "version": "3.8.5"
  }
 },
 "nbformat": 4,
 "nbformat_minor": 5
}
